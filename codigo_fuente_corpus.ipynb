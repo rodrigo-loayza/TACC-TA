{
  "nbformat": 4,
  "nbformat_minor": 0,
  "metadata": {
    "colab": {
      "provenance": []
    },
    "kernelspec": {
      "name": "python3",
      "display_name": "Python 3"
    },
    "language_info": {
      "name": "python"
    }
  },
  "cells": [
    {
      "cell_type": "code",
      "source": [
        "from google.colab import drive\n",
        "drive.mount('/content/drive')"
      ],
      "metadata": {
        "colab": {
          "base_uri": "https://localhost:8080/"
        },
        "id": "orHS5Xnfgb72",
        "outputId": "26ebf15e-5774-479b-8b2a-9526b575d0df"
      },
      "execution_count": 1,
      "outputs": [
        {
          "output_type": "stream",
          "name": "stdout",
          "text": [
            "Mounted at /content/drive\n"
          ]
        }
      ]
    },
    {
      "cell_type": "code",
      "source": [
        "!pip install pdfplumber\n",
        "!pip install langdetect\n",
        "!pip install PyPDF2\n",
        "!pip install pypdf"
      ],
      "metadata": {
        "colab": {
          "base_uri": "https://localhost:8080/"
        },
        "id": "LjTAGkMoot5D",
        "outputId": "c4e5780f-1017-4f47-e547-3136376e5767"
      },
      "execution_count": 2,
      "outputs": [
        {
          "output_type": "stream",
          "name": "stdout",
          "text": [
            "Collecting pdfplumber\n",
            "  Downloading pdfplumber-0.11.1-py3-none-any.whl (57 kB)\n",
            "\u001b[2K     \u001b[90m━━━━━━━━━━━━━━━━━━━━━━━━━━━━━━━━━━━━━━━━\u001b[0m \u001b[32m57.9/57.9 kB\u001b[0m \u001b[31m2.3 MB/s\u001b[0m eta \u001b[36m0:00:00\u001b[0m\n",
            "\u001b[?25hCollecting pdfminer.six==20231228 (from pdfplumber)\n",
            "  Downloading pdfminer.six-20231228-py3-none-any.whl (5.6 MB)\n",
            "\u001b[2K     \u001b[90m━━━━━━━━━━━━━━━━━━━━━━━━━━━━━━━━━━━━━━━━\u001b[0m \u001b[32m5.6/5.6 MB\u001b[0m \u001b[31m17.3 MB/s\u001b[0m eta \u001b[36m0:00:00\u001b[0m\n",
            "\u001b[?25hRequirement already satisfied: Pillow>=9.1 in /usr/local/lib/python3.10/dist-packages (from pdfplumber) (9.4.0)\n",
            "Collecting pypdfium2>=4.18.0 (from pdfplumber)\n",
            "  Downloading pypdfium2-4.30.0-py3-none-manylinux_2_17_x86_64.manylinux2014_x86_64.whl (2.8 MB)\n",
            "\u001b[2K     \u001b[90m━━━━━━━━━━━━━━━━━━━━━━━━━━━━━━━━━━━━━━━━\u001b[0m \u001b[32m2.8/2.8 MB\u001b[0m \u001b[31m38.9 MB/s\u001b[0m eta \u001b[36m0:00:00\u001b[0m\n",
            "\u001b[?25hRequirement already satisfied: charset-normalizer>=2.0.0 in /usr/local/lib/python3.10/dist-packages (from pdfminer.six==20231228->pdfplumber) (3.3.2)\n",
            "Requirement already satisfied: cryptography>=36.0.0 in /usr/local/lib/python3.10/dist-packages (from pdfminer.six==20231228->pdfplumber) (42.0.8)\n",
            "Requirement already satisfied: cffi>=1.12 in /usr/local/lib/python3.10/dist-packages (from cryptography>=36.0.0->pdfminer.six==20231228->pdfplumber) (1.16.0)\n",
            "Requirement already satisfied: pycparser in /usr/local/lib/python3.10/dist-packages (from cffi>=1.12->cryptography>=36.0.0->pdfminer.six==20231228->pdfplumber) (2.22)\n",
            "Installing collected packages: pypdfium2, pdfminer.six, pdfplumber\n",
            "Successfully installed pdfminer.six-20231228 pdfplumber-0.11.1 pypdfium2-4.30.0\n",
            "Collecting langdetect\n",
            "  Downloading langdetect-1.0.9.tar.gz (981 kB)\n",
            "\u001b[2K     \u001b[90m━━━━━━━━━━━━━━━━━━━━━━━━━━━━━━━━━━━━━━━━\u001b[0m \u001b[32m981.5/981.5 kB\u001b[0m \u001b[31m8.6 MB/s\u001b[0m eta \u001b[36m0:00:00\u001b[0m\n",
            "\u001b[?25h  Preparing metadata (setup.py) ... \u001b[?25l\u001b[?25hdone\n",
            "Requirement already satisfied: six in /usr/local/lib/python3.10/dist-packages (from langdetect) (1.16.0)\n",
            "Building wheels for collected packages: langdetect\n",
            "  Building wheel for langdetect (setup.py) ... \u001b[?25l\u001b[?25hdone\n",
            "  Created wheel for langdetect: filename=langdetect-1.0.9-py3-none-any.whl size=993227 sha256=7e49e1204a2f701faaa268be1eed64b1b64544442dec79bb9cf763ddbfe93b05\n",
            "  Stored in directory: /root/.cache/pip/wheels/95/03/7d/59ea870c70ce4e5a370638b5462a7711ab78fba2f655d05106\n",
            "Successfully built langdetect\n",
            "Installing collected packages: langdetect\n",
            "Successfully installed langdetect-1.0.9\n",
            "Collecting PyPDF2\n",
            "  Downloading pypdf2-3.0.1-py3-none-any.whl (232 kB)\n",
            "\u001b[2K     \u001b[90m━━━━━━━━━━━━━━━━━━━━━━━━━━━━━━━━━━━━━━━━\u001b[0m \u001b[32m232.6/232.6 kB\u001b[0m \u001b[31m5.0 MB/s\u001b[0m eta \u001b[36m0:00:00\u001b[0m\n",
            "\u001b[?25hInstalling collected packages: PyPDF2\n",
            "Successfully installed PyPDF2-3.0.1\n",
            "Collecting pypdf\n",
            "  Downloading pypdf-4.2.0-py3-none-any.whl (290 kB)\n",
            "\u001b[2K     \u001b[90m━━━━━━━━━━━━━━━━━━━━━━━━━━━━━━━━━━━━━━━━\u001b[0m \u001b[32m290.4/290.4 kB\u001b[0m \u001b[31m5.5 MB/s\u001b[0m eta \u001b[36m0:00:00\u001b[0m\n",
            "\u001b[?25hRequirement already satisfied: typing_extensions>=4.0 in /usr/local/lib/python3.10/dist-packages (from pypdf) (4.12.2)\n",
            "Installing collected packages: pypdf\n",
            "Successfully installed pypdf-4.2.0\n"
          ]
        }
      ]
    },
    {
      "cell_type": "code",
      "source": [
        "!pip install PyMuPDF"
      ],
      "metadata": {
        "colab": {
          "base_uri": "https://localhost:8080/"
        },
        "id": "zf_OpKccSqHt",
        "outputId": "0cfa794e-69f0-4445-9685-9d26e775dd75"
      },
      "execution_count": 3,
      "outputs": [
        {
          "output_type": "stream",
          "name": "stdout",
          "text": [
            "Collecting PyMuPDF\n",
            "  Downloading PyMuPDF-1.24.7-cp310-none-manylinux2014_x86_64.whl (3.5 MB)\n",
            "\u001b[2K     \u001b[90m━━━━━━━━━━━━━━━━━━━━━━━━━━━━━━━━━━━━━━━━\u001b[0m \u001b[32m3.5/3.5 MB\u001b[0m \u001b[31m18.4 MB/s\u001b[0m eta \u001b[36m0:00:00\u001b[0m\n",
            "\u001b[?25hCollecting PyMuPDFb==1.24.6 (from PyMuPDF)\n",
            "  Downloading PyMuPDFb-1.24.6-py3-none-manylinux2014_x86_64.manylinux_2_17_x86_64.whl (15.7 MB)\n",
            "\u001b[2K     \u001b[90m━━━━━━━━━━━━━━━━━━━━━━━━━━━━━━━━━━━━━━━━\u001b[0m \u001b[32m15.7/15.7 MB\u001b[0m \u001b[31m52.9 MB/s\u001b[0m eta \u001b[36m0:00:00\u001b[0m\n",
            "\u001b[?25hInstalling collected packages: PyMuPDFb, PyMuPDF\n",
            "Successfully installed PyMuPDF-1.24.7 PyMuPDFb-1.24.6\n"
          ]
        }
      ]
    },
    {
      "cell_type": "code",
      "source": [
        "import os\n",
        "import re\n",
        "import nltk\n",
        "import pdfplumber\n",
        "from langdetect import detect\n",
        "from google.colab import drive\n",
        "from nltk.tokenize import word_tokenize\n",
        "from nltk.corpus import stopwords\n",
        "nltk.download('punkt')\n",
        "nltk.download('stopwords')\n",
        "\n",
        "import fitz  # PyMuPDF\n",
        "\n",
        "def detect_language(text):\n",
        "    try:\n",
        "        idioma = detect(text)\n",
        "        return idioma\n",
        "    except:\n",
        "        return None\n",
        "\n",
        "def limpiar(text):\n",
        "    # Eliminar caracteres de nueva línea, tabulación, y otros especificados\n",
        "    text = text.replace('\\n', ' ').replace('\\t', ' ').replace('•', ' ').replace('_', ' ')\n",
        "    # Eliminar secuencias de tres palabras con longitud de 1 a 3 caracteres\n",
        "    text = re.sub(r'\\b\\w{1,3}\\b\\s*\\b\\w{1,3}\\b\\s*\\b\\w{1,3}\\b', '', text)\n",
        "    # Eliminar secuencias de comas repetitivas\n",
        "    text = re.sub(r',\\s*,\\s*,\\s*,', '', text)\n",
        "    # Eliminar secuencias de caracteres no alfanuméricos repetidos\n",
        "    text = re.sub(r'([^\\s\\w]|_)\\1+', '', text)\n",
        "    # Eliminar palabras de una sola letra\n",
        "    text = re.sub(r'\\b\\w\\b', '', text)\n",
        "    # Eliminar espacios sobrantes\n",
        "    text = re.sub(' +', ' ', text)\n",
        "    return text.strip()\n",
        "\n",
        "diccionario_paginas = {\n",
        "    \"1 Rimana. Qichwa - Qullawpi llamk_ana mayt_u. Cuaderno de trabajo - Comunicación 1° - Quechua Collao.pdf\": (9, 329),\n",
        "    \"MANUAL_DE_GRAMATICA_QUECHUA_CUSCO_COLLAO.pdf\": (3, 44),\n",
        "    \"Manual-Quechua.pdf\": (17, 122),\n",
        "    \"Kasarakuy raymimanta.pdf\": (6, 89),\n",
        "    \"Muhu papa rikch’arichiymanta. Historias y relatos 3 - Inicial - Quechua Collao.pdf\": (4, 9),\n",
        "    \"Alelipa munaqusqan waqaychanankuna. Historias y Relatos 5 - Inicial - Quechua Collao.pdf\": (4, 13),\n",
        "    \"Liqichumanta. Historias y relatos 1 - Inicial - Quechua Collao.pdf\": (4, 13),\n",
        "    \"Willakuykuna mayt’u - Collao Literatura 1 - 1° Secundaria - Quechua collao.pdf\": (8, 159),\n",
        "    \"Willakuykuna mayt’u - Collao Literatura 2 - 2° Secundaria - Quechua collao.pdf\": (8, 159),\n",
        "    \"Huk kutis kaq kasqa Literatura 2 quechua collao.pdf\": (7, 88),\n",
        "    \"Ayllunchikpa willakuyninkuna. Historias y relatos 2 - Inicial - Quechua Collao.pdf\": (6, 25),\n",
        "    \"Papa allay. Historias y Relatos 4 - Inicial - Quechua Collao.pdf\": (4, 13),\n",
        "    \"Ayllupi yachasunchik 1 ñiqi qullaw qichwapi. Texto de Comunicación del 1° Primaria - Quechua Collao..pdf\": (10, 106),\n",
        "    \"2 Rimana - Qillqasqa Mayt’u Qichwa Qullaw. Texto de Comunicación del 2° Secundaria - Quechua Collao.pdf\": (11, 91),\n",
        "    \"3 Rimana - Qillqasqa Mayt’u Qichwa Qullaw. Texto de Comunicación del 3° Secundaria - Quechua Collao.pdf\": (11, 91),\n",
        "    \"Ayllupi yachasunchik 3 ñiqi Qullaw qichwapi. Texto de Comunicación del 3° Primaria - Quechua Collao.pdf\": (10, 74),\n",
        "    \"4 Rimana - Qillqasqa Mayt’u Qichwa Qullaw. Texto de Comunicación del 4° Secundaria - Quechua Collao.pdf\": (11, 91),\n",
        "    \"5 Rimana - Qillqasqa Mayt’u Qichwa Qullaw. Texto de Comunicación del 5° Secundaria - Quechua collao.pdf\": (11, 91),\n",
        "    \"Llaqtanchikpa kawsayninkuna. Saberes de los pueblos 1 - 1° Secundaria - Quechua collao.pdf\": (4, 158),\n",
        "    \"Guía para el docente Ñawinchanapaq munay qillasqakuna 2015 quechua Cusco-Collao.pdf\": (5, 26),\n",
        "    \"Conozca los resultados de su hijo 4o. grado de Primaria informe para padres de familia. Quechua Cusco Collao y castellano como segunda lengua.pdf\": (6, 7),\n",
        "    \"Ñawinchanapaq munay qillqasqakuna.pdf\": (2, 54),\n",
        "    \"Sumaq Kawsay 1 - quechua collao. Cuaderno de trabajo - Personal Social - Ciencia y Tecnología 1 - Quechua collao.pdf\": (4, 146),\n",
        "    \"Llaqtanchikpa kawsayninkuna Saberes de los pueblos 2 - 2° Secundaria - Quechua collao.pdf\": (4, 158),\n",
        "    \"Informe_padres_familia_4to_primaria_quechua_2012-GT.pdf\": (6, 7),\n",
        "    \"Huk kutis kaq kasqa. Literatura 1 - 5° Primaria - Quechua collao.pdf\": (4, 89),\n",
        "    \"Guía para el docente Ñawinchanapaq munay qillqasqakuna 2019.pdf\": (2, 10),\n",
        "    \"Kuska yachasunchik cuaderno de trabajo y folder - inicial 5 años - Quechua Collao.pdf\": (9, 212),\n",
        "    \"Kuska yachasunchik cuaderno de trabajo y folder - inicial 4 años - Quechua Collao _.pdf\": (13, 202),\n",
        "    \"Llaqtanchikpa kawsayninkuna saberes de los pueblos - Comunicación y Ciencia y Tecnología quechua, variante Collao.pdf\": (4, 160),\n",
        "    \"Ñawinchanapaq munay qillqasqakuna 2019.pdf\": (2, 26),\n",
        "    \"Yupana 1.Qullaw Qichwa. Cuaderno de trabajo - Matemáticas 1 - Quechua Collao.pdf\": (4, 146),\n",
        "    \"Rimana 1, Yachayninchikmanta ayninarikusun. Primer grado - Ciclo Intermedio, texto de Comunicación.pdf\": (2, 117),\n",
        "    \"Rimana 2, Yachayninchikmanta ayninarikusun. Segundo grado - Ciclo Intermedio, portafolio de evidencias de Comunicación.pdf\": (10, 157),\n",
        "    \"Rimana 3, Yachayninchikmanta rimasunchik. Tercer grado - Ciclo Intermedio, portafolio de evidencias de Comunicación.pdf\": (2, 129),\n",
        "    \"Rimana 1, Yachayninchikmanta rimasunchik. Primer grado - Ciclo Intermedio, portafolio de evidencias de Comunicación.pdf\": (5, 146),\n",
        "    \"Rimana 1,  Yachayninchikmanta ayninarikusun. Primer grado - Ciclo Intermedio, portafolio de evidencias de Comunicación.pdf\": (2, 157),\n",
        "    \"Rimana 2, Yachayninchikmanta ayninarikusun. Segundo grado - Ciclo Intermedio, texto de Comunicación.pdf\": (2, 116),\n",
        "    \"Rimana 3, Yachayninchikmanta rimasunchik. Tercer grado - Ciclo Intermedio, texto de Comunicación.pdf\": (5, 116)\n",
        "}\n",
        "\n",
        "def extract_text_from_pdf(pdf_path):\n",
        "    filename = os.path.basename(pdf_path)\n",
        "\n",
        "    # Verificar si el archivo está en el diccionario y obtener el rango de páginas\n",
        "    if filename in diccionario_paginas:\n",
        "        start_page, end_page = diccionario_paginas[filename]\n",
        "    else:\n",
        "        start_page, end_page = 0, None  # Si no se especifica, leer todas las páginas por defecto\n",
        "\n",
        "    document = fitz.open(pdf_path)\n",
        "    text = \"\"\n",
        "\n",
        "    # Iterar sobre las páginas según el rango especificado\n",
        "    for page_num in range(start_page, end_page or document.page_count):\n",
        "        page = document.load_page(page_num)\n",
        "        page_text = page.get_text()\n",
        "        page_text = limpiar(page_text)\n",
        "        text += page_text + \" \"\n",
        "\n",
        "    oraciones = text.split('.')\n",
        "    oraciones = [oracion.strip() for oracion in oraciones if oracion.strip()]\n",
        "\n",
        "    texto_quechua = []\n",
        "    for oracion in oraciones:\n",
        "        idioma = detect_language(oracion)\n",
        "        if idioma != \"es\":\n",
        "            texto_quechua.append(oracion)\n",
        "\n",
        "    return \" \".join(texto_quechua)\n",
        "\n",
        "\"\"\"Se define la función create_corpus que recorre la carpeta en busca de los documentos para crear el corpus\"\"\"\n",
        "\n",
        "def create_corpus(pdf_folder):\n",
        "    corpus = []\n",
        "    for filename in os.listdir(pdf_folder):\n",
        "        print(f\"Procesando archivo: {filename}\")  # Depuración\n",
        "        if filename in diccionario_paginas:\n",
        "            pdf_path = os.path.join(pdf_folder, filename)\n",
        "            text = extract_text_from_pdf(pdf_path)\n",
        "            # cleaned_text = clean_text(text)\n",
        "            corpus.append({'documento': text, 'variante': 'collao'})\n",
        "        else:\n",
        "            print(f\"Archivo {filename} no encontrado en el diccionario.\")  # Depuración\n",
        "    return corpus\n",
        "\n",
        "pdf_folder = \"/content/drive/My Drive/Corpus/collao\"\n",
        "corpus_collao = create_corpus(pdf_folder)"
      ],
      "metadata": {
        "colab": {
          "base_uri": "https://localhost:8080/"
        },
        "id": "xYhB4IDPSc6Z",
        "outputId": "2453f408-e541-4f28-9c19-dcd2b10dc5e6"
      },
      "execution_count": 11,
      "outputs": [
        {
          "output_type": "stream",
          "name": "stderr",
          "text": [
            "[nltk_data] Downloading package punkt to /root/nltk_data...\n",
            "[nltk_data]   Package punkt is already up-to-date!\n",
            "[nltk_data] Downloading package stopwords to /root/nltk_data...\n",
            "[nltk_data]   Package stopwords is already up-to-date!\n"
          ]
        },
        {
          "output_type": "stream",
          "name": "stdout",
          "text": [
            "Procesando archivo: MANUAL_DE_GRAMATICA_QUECHUA_CUSCO_COLLAO.pdf\n",
            "Procesando archivo: Manual-Quechua.pdf\n",
            "Procesando archivo: Kasarakuy raymimanta.pdf\n",
            "Procesando archivo: Muhu papa rikch’arichiymanta. Historias y relatos 3 - Inicial - Quechua Collao.pdf\n",
            "Procesando archivo: Alelipa munaqusqan waqaychanankuna. Historias y Relatos 5 - Inicial - Quechua Collao.pdf\n",
            "Procesando archivo: Liqichumanta. Historias y relatos 1 - Inicial - Quechua Collao.pdf\n",
            "Procesando archivo: Willakuykuna mayt’u - Collao Literatura 1 - 1° Secundaria - Quechua collao.pdf\n",
            "Procesando archivo: Willakuykuna mayt’u - Collao Literatura 2 - 2° Secundaria - Quechua collao.pdf\n",
            "Procesando archivo: Huk kutis kaq kasqa Literatura 2 quechua collao.pdf\n",
            "Procesando archivo: Ayllunchikpa willakuyninkuna. Historias y relatos 2 - Inicial - Quechua Collao.pdf\n",
            "Procesando archivo: Papa allay. Historias y Relatos 4 - Inicial - Quechua Collao.pdf\n",
            "Procesando archivo: Ayllupi yachasunchik 1 ñiqi qullaw qichwapi. Texto de Comunicación del 1° Primaria - Quechua Collao..pdf\n",
            "Procesando archivo: 2 Rimana - Qillqasqa Mayt’u Qichwa Qullaw. Texto de Comunicación del 2° Secundaria - Quechua Collao.pdf\n",
            "Procesando archivo: 3 Rimana - Qillqasqa Mayt’u Qichwa Qullaw. Texto de Comunicación del 3° Secundaria - Quechua Collao.pdf\n",
            "Procesando archivo: Ayllupi yachasunchik 3 ñiqi Qullaw qichwapi. Texto de Comunicación del 3° Primaria - Quechua Collao.pdf\n",
            "Procesando archivo: 4 Rimana - Qillqasqa Mayt’u Qichwa Qullaw. Texto de Comunicación del 4° Secundaria - Quechua Collao.pdf\n",
            "Procesando archivo: 5 Rimana - Qillqasqa Mayt’u Qichwa Qullaw. Texto de Comunicación del 5° Secundaria - Quechua collao.pdf\n",
            "Procesando archivo: Llaqtanchikpa kawsayninkuna. Saberes de los pueblos 1 - 1° Secundaria - Quechua collao.pdf\n",
            "Procesando archivo: Guía para el docente Ñawinchanapaq munay qillasqakuna 2015 quechua Cusco-Collao.pdf\n",
            "Procesando archivo: Conozca los resultados de su hijo 4o. grado de Primaria informe para padres de familia. Quechua Cusco Collao y castellano como segunda lengua.pdf\n",
            "Procesando archivo: Ñawinchanapaq munay qillqasqakuna.pdf\n",
            "Procesando archivo: Sumaq Kawsay 1 - quechua collao. Cuaderno de trabajo - Personal Social - Ciencia y Tecnología 1 - Quechua collao.pdf\n",
            "Procesando archivo: Llaqtanchikpa kawsayninkuna Saberes de los pueblos 2 - 2° Secundaria - Quechua collao.pdf\n",
            "Procesando archivo: Informe_padres_familia_4to_primaria_quechua_2012-GT.pdf\n",
            "Procesando archivo: Huk kutis kaq kasqa. Literatura 1 - 5° Primaria - Quechua collao.pdf\n",
            "Procesando archivo: Guía para el docente Ñawinchanapaq munay qillqasqakuna 2019.pdf\n",
            "Procesando archivo: Kuska yachasunchik cuaderno de trabajo y folder - inicial 5 años - Quechua Collao.pdf\n",
            "Procesando archivo: Kuska yachasunchik cuaderno de trabajo y folder - inicial 4 años - Quechua Collao _.pdf\n",
            "Procesando archivo: Llaqtanchikpa kawsayninkuna saberes de los pueblos - Comunicación y Ciencia y Tecnología quechua, variante Collao.pdf\n",
            "Procesando archivo: Ñawinchanapaq munay qillqasqakuna 2019.pdf\n",
            "Procesando archivo: 1 Rimana. Qichwa - Qullawpi llamk_ana mayt_u. Cuaderno de trabajo - Comunicación 1° - Quechua Collao.pdf\n",
            "Procesando archivo: Yupana 1.Qullaw Qichwa. Cuaderno de trabajo - Matemáticas 1 - Quechua Collao.pdf\n",
            "Procesando archivo: Rimana 1, Yachayninchikmanta ayninarikusun. Primer grado - Ciclo Intermedio, texto de Comunicación.pdf\n",
            "Procesando archivo: Rimana 2, Yachayninchikmanta ayninarikusun. Segundo grado - Ciclo Intermedio, portafolio de evidencias de Comunicación.pdf\n",
            "Procesando archivo: Rimana 3, Yachayninchikmanta rimasunchik. Tercer grado - Ciclo Intermedio, portafolio de evidencias de Comunicación.pdf\n",
            "Procesando archivo: Rimana 1, Yachayninchikmanta rimasunchik. Primer grado - Ciclo Intermedio, portafolio de evidencias de Comunicación.pdf\n",
            "Procesando archivo: Rimana 1,  Yachayninchikmanta ayninarikusun. Primer grado - Ciclo Intermedio, portafolio de evidencias de Comunicación.pdf\n",
            "Procesando archivo: Rimana 2, Yachayninchikmanta ayninarikusun. Segundo grado - Ciclo Intermedio, texto de Comunicación.pdf\n",
            "Procesando archivo: Rimana 3, Yachayninchikmanta rimasunchik. Tercer grado - Ciclo Intermedio, texto de Comunicación.pdf\n"
          ]
        }
      ]
    },
    {
      "cell_type": "code",
      "source": [
        "import PyPDF2\n",
        "\n",
        "def extraer_lineas(inicio, fin, pdf_path, tipo):\n",
        "    paginas = []\n",
        "\n",
        "    with open(pdf_path, 'rb') as file:\n",
        "        reader = PyPDF2.PdfReader(file)\n",
        "        num_paginas = len(reader.pages)\n",
        "\n",
        "        for pagina_num in range(inicio,fin+1):\n",
        "            pag = []\n",
        "            pagina = reader.pages[pagina_num]\n",
        "            contenido = pagina.extract_text()\n",
        "\n",
        "            # Dividir el contenido de la página en lineas\n",
        "            palabras = contenido.split('\\n')\n",
        "\n",
        "            #si la linea empieza con digito, entonces se elimina ese digito que es el indicador de pagina\n",
        "            if palabras[0].isdigit():\n",
        "              del palabras[0]\n",
        "            else:\n",
        "              # si por error la linea empieza con un numero que no deberia ir ahí, lo elimina\n",
        "              if palabras[0][0].isdigit():\n",
        "                palabras[0] = palabras[0][1:]\n",
        "\n",
        "            #une las palabras en una linea\n",
        "            pag.append(\" \".join(palabras))\n",
        "\n",
        "            #añade las lineas a el texto completo divido por paginas\n",
        "            paginas.append(\" \".join(pag[0].split()))\n",
        "\n",
        "    #une todo el texto y regresa un diccionario\n",
        "    return dict([('documento', \" \".join(paginas)), ('variante', tipo)])\n",
        "\n",
        "maychi = extraer_lineas(4,8, \"/content/drive/My Drive/Corpus/chanka/maychi.pdf\", \"Chanka\")\n",
        "chanka5 = extraer_lineas(4,8, \"/content/drive/My Drive/Corpus/chanka/antuku.pdf\", \"Chanka\")"
      ],
      "metadata": {
        "id": "uu39hgMzgkad"
      },
      "execution_count": 5,
      "outputs": []
    },
    {
      "cell_type": "code",
      "source": [
        "def extraer_lineas(inicio, fin, pdf_path, tipo):\n",
        "    paginas = []\n",
        "\n",
        "    with open(pdf_path, 'rb') as file:\n",
        "        reader = PyPDF2.PdfReader(file)\n",
        "        num_paginas = len(reader.pages)\n",
        "\n",
        "        for pagina_num in range(inicio,fin+1):\n",
        "            pag = []\n",
        "            pagina = reader.pages[pagina_num]\n",
        "            contenido = pagina.extract_text()\n",
        "\n",
        "            # Dividir el contenido de la página en lineas\n",
        "            palabras = contenido.split('\\n')\n",
        "            #si la linea empieza con digito, entonces se elimina ese digito que es el indicador de pagina\n",
        "            if palabras[0].isdigit():\n",
        "              del palabras[0]\n",
        "            else:\n",
        "              #si la linea es el comienzo de un capitulo, el titulo se guardó al ultimo y se procede a eliminarlo\n",
        "              del palabras[-5:]\n",
        "\n",
        "            #une las palabras en una linea\n",
        "            pag.append(\" \".join(palabras))\n",
        "\n",
        "            #añade las lineas a el texto completo divido por paginas\n",
        "            paginas.append(\" \".join(pag[0].split()))\n",
        "\n",
        "    #une todo el texto y regresa un diccionario\n",
        "    return (\" \".join(paginas), tipo)\n",
        "    #return dict([('documento', \" \".join(paginas)), ('variante', tipo)])\n",
        "\n",
        "paginas = extraer_lineas(8,158, \"/content/drive/My Drive/Corpus/chanka/Chanka_Extraccion1.pdf\", \"Chanka\")"
      ],
      "metadata": {
        "id": "Y3HDBJOZgs63"
      },
      "execution_count": 6,
      "outputs": []
    },
    {
      "cell_type": "code",
      "source": [
        "def extraer_lineas(inicio, fin, pdf_path, tipo):\n",
        "    paginas = []\n",
        "\n",
        "    with open(pdf_path, 'rb') as file:\n",
        "        reader = PyPDF2.PdfReader(file)\n",
        "        num_paginas = len(reader.pages)\n",
        "\n",
        "        for pagina_num in range(inicio,fin+1):\n",
        "            pag = []\n",
        "            pagina = reader.pages[pagina_num]\n",
        "            contenido = pagina.extract_text()\n",
        "\n",
        "            # Dividir el contenido de la página en lineas\n",
        "            palabras = contenido.split('\\n')\n",
        "            #si la linea empieza con digito, entonces se elimina ese digito que es el indicador de pagina\n",
        "            if palabras[0].isdigit():\n",
        "              del palabras[0]\n",
        "\n",
        "            #une las palabras en una linea\n",
        "            pag.append(\" \".join(palabras))\n",
        "\n",
        "            #añade las lineas a el texto completo divido por paginas\n",
        "            paginas.append(\" \".join(pag[0].split()))\n",
        "\n",
        "    #une todo el texto y regresa un diccionario\n",
        "    return dict([('documento', \" \".join(paginas)), ('variante', tipo)])\n",
        "\n",
        "paginas_2 = extraer_lineas(8,73, \"/content/drive/My Drive/Corpus/chanka/saberes.pdf\", \"Chanka\")"
      ],
      "metadata": {
        "id": "jRKYTTDJgvU2"
      },
      "execution_count": 7,
      "outputs": []
    },
    {
      "cell_type": "code",
      "source": [
        "corpusChanka = [\n",
        "  maychi,\n",
        "  chanka5,\n",
        "  paginas,\n",
        "  paginas_2,\n",
        "]\n",
        "len(corpusChanka)"
      ],
      "metadata": {
        "id": "uGBKZZIlkZrC",
        "colab": {
          "base_uri": "https://localhost:8080/"
        },
        "outputId": "10564b03-0e54-4217-f917-22cede17836c"
      },
      "execution_count": 8,
      "outputs": [
        {
          "output_type": "execute_result",
          "data": {
            "text/plain": [
              "4"
            ]
          },
          "metadata": {},
          "execution_count": 8
        }
      ]
    },
    {
      "cell_type": "code",
      "source": [
        "import re\n",
        "from pypdf import PdfReader\n",
        "\n",
        "# Fuente: Urin Qichwa VOCABULARIO PEDAGÓGICO QUECHUA SUREÑO\n",
        "reader = PdfReader(\"/content/drive/My Drive/Corpus/unificada/urin.pdf\")\n",
        "\n",
        "# Secciones con oraciones útiles\n",
        "pages_comm = reader.pages[17:47]  # Comunicación\n",
        "pages_pers = reader.pages[60:68]  # Personal social y ciencias\n",
        "pages_camp = reader.pages[109:131]  # Por campos semánticos\n",
        "\n",
        "document = \"\"\n",
        "\n",
        "### Sección Comunicación ###\n",
        "\n",
        "# Regex patterns\n",
        "pagination_pttrn = (\n",
        "    r\"Comunicación\\nvocabulario\\d+\\sParte\\sI\\s-\\sQuechua\\ssureño\"  # Datos de paginación\n",
        ")\n",
        "sentences_pttrn = r\"\\.[A-Za-z]?\\s*[A-Za-z]?\\s([^.]+\\.)\\s*‘([^‘’]+)’\\.\"  # Grupo1 oración quechua, grupo2 oración español encerrada en ‘’\n",
        "\n",
        "# Processing\n",
        "for page in pages_comm:\n",
        "    # Clean pagination\n",
        "    text = re.sub(pagination_pttrn, \"\", page.extract_text())\n",
        "\n",
        "    # Find quechua sentences\n",
        "    matches = re.findall(sentences_pttrn, text)\n",
        "    for m in matches:\n",
        "        sentence = m[0].replace(\"\\n\", \"\")\n",
        "        sentence = sentence.replace(\"/ \", \"/\")\n",
        "        document += sentence + \"\\n\"\n",
        "\n",
        "### Sección Personal social y ciencias ###\n",
        "\n",
        "# Regex patterns\n",
        "pagination_pttrn = r\"Personal\\ssocial\\sy\\sCiencia\\sy\\stecnología\\nvocabularioParte\\sII\\s-\\sQuechua sureño\\s\\d+\"  # Datos de paginación\n",
        "sentences_pttrn = r\"\\.[A-Za-z]?\\s*[A-Za-z]?\\s([^.]+\\.)\\s*‘([^‘’]+)’\\.\"  # Grupo1 oración quechua, grupo2 oración español encerrada en ‘’\n",
        "\n",
        "# Processing\n",
        "for page in pages_pers:\n",
        "    # Clean pagination\n",
        "    text = re.sub(pagination_pttrn, \"\", page.extract_text())\n",
        "\n",
        "    # Find quechua sentences\n",
        "    matches = re.findall(sentences_pttrn, text)\n",
        "    for m in matches:\n",
        "        sentence = m[0].replace(\"\\n\", \"\")\n",
        "        sentence = sentence.replace(\"/ \", \"/\")\n",
        "        document += sentence + \"\\n\"\n",
        "\n",
        "### Sección campos semánticos ###\n",
        "\n",
        "# Regex patterns\n",
        "pagination_pttrn = r\"Palabras\\spor\\scampos\\ssemánticos\\sdel\\squechua\\ssureño\\nUsadas\\sen\\sel\\sárea\\sde\\sPersonal\\ssocial\\sy\\sCiencia\\sy\\stecnologíaParte\\sIII\\s-\\sQuechua\\ssureño\\s\\d+\"  # Datos de paginación\n",
        "patron = r\"([a-z].*?\\.)\\s*\\n\\s*((?:[A-Z].*?\\.\\s*)+)\"  # Grupo1 oración en minúscula (palabras), grupo2 grupo de oraciones que empiezan en mayúsucula (ejemplos en quechua)\n",
        "\n",
        "# Processing\n",
        "for page in pages_camp:\n",
        "    # Clean pagination\n",
        "    text = re.sub(pagination_pttrn, \"\", page.extract_text())\n",
        "\n",
        "    # Find quechua sentences\n",
        "    matches = re.findall(patron, text, re.DOTALL)\n",
        "    for m in matches:\n",
        "        sentence = m[1].replace(\"\\n\", \"\")\n",
        "        sentence = sentence.replace(\"/ \", \"/\")\n",
        "        document += sentence + \"\\n\"\n",
        "\n",
        "\n",
        "corpusUnificado = {'documento': document, 'variante': 'unificada'}"
      ],
      "metadata": {
        "id": "JuNYC0KNihj0"
      },
      "execution_count": 9,
      "outputs": []
    },
    {
      "cell_type": "code",
      "source": [
        "len(corpusUnificado)"
      ],
      "metadata": {
        "id": "RTD7ZtaF2hMZ",
        "colab": {
          "base_uri": "https://localhost:8080/"
        },
        "outputId": "6a225ebb-393c-4267-e6aa-9801324b045a"
      },
      "execution_count": 10,
      "outputs": [
        {
          "output_type": "execute_result",
          "data": {
            "text/plain": [
              "2"
            ]
          },
          "metadata": {},
          "execution_count": 10
        }
      ]
    },
    {
      "cell_type": "code",
      "source": [
        "len(corpus_collao)"
      ],
      "metadata": {
        "colab": {
          "base_uri": "https://localhost:8080/"
        },
        "id": "dP_cp4GCYamo",
        "outputId": "08dfe2e1-6e19-403d-c763-361187ec62d0"
      },
      "execution_count": 14,
      "outputs": [
        {
          "output_type": "execute_result",
          "data": {
            "text/plain": [
              "39"
            ]
          },
          "metadata": {},
          "execution_count": 14
        }
      ]
    },
    {
      "cell_type": "code",
      "source": [
        "corpus=[]\n",
        "for doc in corpusChanka:\n",
        "  corpus.append(doc)\n",
        "corpus.append({'documento': corpusUnificado[\"documento\"], 'variante': corpusUnificado[\"variante\"]})\n",
        "for doc in corpus_collao:\n",
        "  corpus.append(doc)"
      ],
      "metadata": {
        "id": "lzDr6KVYk9JV"
      },
      "execution_count": 12,
      "outputs": []
    },
    {
      "cell_type": "code",
      "source": [
        "len(corpus)"
      ],
      "metadata": {
        "id": "dVuMvWKc2yg2",
        "colab": {
          "base_uri": "https://localhost:8080/"
        },
        "outputId": "e90a29c9-1892-4c86-cdf6-c787fa38e249"
      },
      "execution_count": 13,
      "outputs": [
        {
          "output_type": "execute_result",
          "data": {
            "text/plain": [
              "44"
            ]
          },
          "metadata": {},
          "execution_count": 13
        }
      ]
    },
    {
      "cell_type": "code",
      "source": [
        "# Guardar el corpus en un archivo de texto\n",
        "with open(\"corpus.txt\", \"w\") as f:\n",
        "    for document in corpus:\n",
        "        # Convert the document (likely a dictionary) to a string before writing\n",
        "        f.write(str(document) + \"\\n\")"
      ],
      "metadata": {
        "id": "r4cejbyk3UWt"
      },
      "execution_count": 16,
      "outputs": []
    },
    {
      "cell_type": "code",
      "source": [
        "print(\"Número de documentos en el corpus:\", len(corpus))"
      ],
      "metadata": {
        "id": "cQTDvIXtEws8",
        "colab": {
          "base_uri": "https://localhost:8080/"
        },
        "outputId": "abddbdfe-c317-4b82-c133-3de1dd1b4f7d"
      },
      "execution_count": 17,
      "outputs": [
        {
          "output_type": "stream",
          "name": "stdout",
          "text": [
            "Número de documentos en el corpus: 44\n"
          ]
        }
      ]
    },
    {
      "cell_type": "code",
      "source": [
        "# Guardar el corpus en un archivo de texto\n",
        "with open(\"corpus.txt\", \"w\") as f:\n",
        "    for document in corpus:\n",
        "        # Check if the document is a dictionary before accessing 'documento'\n",
        "        if isinstance(document, dict):\n",
        "            f.write(str(document) + \"\\n\")\n",
        "        # Handle the case where document is a tuple\n",
        "        elif isinstance(document, tuple):\n",
        "            f.write(str({'documento': document[0], 'variante': document[1]}) + \"\\n\")\n",
        "\n",
        "# Obtener el número de palabras de cada documento y del corpus\n",
        "num_palabras_documento = []\n",
        "for documento in corpus:\n",
        "    # Check if the document is a dictionary before accessing 'documento'\n",
        "    if isinstance(documento, dict):\n",
        "        num_palabras = len(documento['documento'].split())\n",
        "        num_palabras_documento.append(num_palabras)\n",
        "    # Handle the case where document is a tuple\n",
        "    elif isinstance(document, tuple):\n",
        "        num_palabras = len(documento[0].split())  # Access the first element of the tuple\n",
        "        num_palabras_documento.append(num_palabras)\n",
        "\n",
        "# Número total de palabras en el corpus\n",
        "total_palabras_corpus = sum(num_palabras_documento)\n",
        "print(\"Número total de palabras en el corpus:\", total_palabras_corpus)\n"
      ],
      "metadata": {
        "id": "bRSBVqN6FSpj",
        "colab": {
          "base_uri": "https://localhost:8080/"
        },
        "outputId": "505581a1-2b6f-465e-b236-585760943734"
      },
      "execution_count": 19,
      "outputs": [
        {
          "output_type": "stream",
          "name": "stdout",
          "text": [
            "Número total de palabras en el corpus: 233499\n"
          ]
        }
      ]
    },
    {
      "cell_type": "code",
      "source": [
        "import matplotlib.pyplot as plt\n",
        "\n",
        "# Obtener el número de palabras de cada documento y del corpus\n",
        "num_palabras_documento = []\n",
        "for documento in corpus:\n",
        "    if isinstance(documento, dict):\n",
        "        num_palabras = len(documento['documento'].split())\n",
        "    elif isinstance(documento, tuple):\n",
        "        num_palabras = len(documento[0].split()) # Access the text from the tuple\n",
        "    else:\n",
        "        num_palabras = 0 # Handle cases where documento is neither a dict nor a tuple\n",
        "        print(f\"Unexpected data type: {type(documento)}\") # Print a warning for unexpected types\n",
        "\n",
        "    num_palabras_documento.append(num_palabras)\n",
        "\n",
        "# Número total de palabras en el corpus\n",
        "total_palabras_corpus = sum(num_palabras_documento)\n",
        "\n",
        "# Crear gráfico de barras para mostrar el número de palabras en cada documento\n",
        "plt.figure(figsize=(10, 6))\n",
        "plt.bar(range(1, len(num_palabras_documento) + 1), num_palabras_documento, color='skyblue')\n",
        "plt.xlabel('Documento')\n",
        "plt.ylabel('Número de palabras')\n",
        "plt.title('Número de palabras en cada documento')\n",
        "plt.xticks(range(1, len(num_palabras_documento) + 1))\n",
        "\n",
        "# Agregar el número total de palabras en el gráfico\n",
        "plt.text(0.5, 0.95, f'Total de palabras: {total_palabras_corpus}', horizontalalignment='center', verticalalignment='center', transform=plt.gca().transAxes, fontsize=15, bbox=dict(facecolor='white', alpha=0.5))\n",
        "\n",
        "\n",
        "plt.show()"
      ],
      "metadata": {
        "id": "n7dpW3YtIXeu",
        "colab": {
          "base_uri": "https://localhost:8080/",
          "height": 565
        },
        "outputId": "d1f0595e-4671-4439-cd5c-df0913325b9a"
      },
      "execution_count": 22,
      "outputs": [
        {
          "output_type": "display_data",
          "data": {
            "text/plain": [
              "<Figure size 1000x600 with 1 Axes>"
            ],
            "image/png": "[encoded data removed]"
          },
          "metadata": {}
        }
      ]
    }
  ]
}
